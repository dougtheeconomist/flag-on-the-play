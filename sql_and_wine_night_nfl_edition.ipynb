{
 "cells": [
  {
   "cell_type": "markdown",
   "metadata": {},
   "source": [
    "## First make sure proper necessary installations are made"
   ]
  },
  {
   "cell_type": "code",
   "execution_count": null,
   "metadata": {},
   "outputs": [],
   "source": [
    "!pip install pymssql"
   ]
  },
  {
   "cell_type": "markdown",
   "metadata": {},
   "source": [
    "#### For Mac users:\n",
    "You will need to install the following program in the terminal or the notebook will throw an error when importing pymssql.\n",
    "\n",
    "       brew install freetds\n",
    "\n",
    "Non Mac users may not need this install at all, but in the event that they do, an ubuntu version can be found here:\n",
    "    https://packages.ubuntu.com/search?keywords=FreeTDS"
   ]
  },
  {
   "cell_type": "markdown",
   "metadata": {},
   "source": [
    "## Then run imports and test your connection:"
   ]
  },
  {
   "cell_type": "code",
   "execution_count": 20,
   "metadata": {},
   "outputs": [],
   "source": [
    "import pandas as pd\n",
    "import numpy as np\n",
    "import pymssql"
   ]
  },
  {
   "cell_type": "code",
   "execution_count": 21,
   "metadata": {},
   "outputs": [],
   "source": [
    "conn = pymssql.connect(host='mss-nfl.cuy9yxiaxoxo.us-west-2.rds.amazonaws.com',user='*******',password='**********',database='nfl')\n"
   ]
  },
  {
   "cell_type": "code",
   "execution_count": 22,
   "metadata": {},
   "outputs": [],
   "source": [
    "cur = conn.cursor()\n",
    "cur.execute('''\n",
    "USE nfl;\n",
    "''')"
   ]
  },
  {
   "cell_type": "markdown",
   "metadata": {},
   "source": [
    "### Run the following querry to make sure that eveything works"
   ]
  },
  {
   "cell_type": "code",
   "execution_count": 18,
   "metadata": {},
   "outputs": [
    {
     "data": {
      "text/plain": [
       "[(2019,)]"
      ]
     },
     "execution_count": 18,
     "metadata": {},
     "output_type": "execute_result"
    }
   ],
   "source": [
    "query = \"\"\"\n",
    "SELECT MAX(year) FROM guest.teams;\n",
    "\"\"\"\n",
    "cur.execute(query)\n",
    "cur.fetchall() "
   ]
  },
  {
   "cell_type": "markdown",
   "metadata": {},
   "source": [
    "## Answering questions:\n",
    "\n",
    "Once everyone is ready we'll dive into the following questions. The table schemas can be found at the bottom of this notebook, however you may find it easier to pull up the github readme for the project, which also contains these schema tables, in another window, link below:\n",
    "\n",
    "https://github.com/dougtheeconomist/flag-on-the-play/blob/master/README.md"
   ]
  },
  {
   "cell_type": "markdown",
   "metadata": {},
   "source": [
    "## The Scenario\n",
    "\n",
    "Suppose we've been hired to do a consulting project for the Seattle Seahawks; there is a feeling that Seattle is penalized quite a bit and maybe disproportionately to other teams, so we want to utilize our database containing penalty, or flag data, to see if there is reasonable evidence for concern. Basically the coaching staff needs to know how hard to push back on the refs when they feel that a bogus call has been made. "
   ]
  },
  {
   "cell_type": "markdown",
   "metadata": {},
   "source": [
    "#### Q1 \n",
    "Write a querry to return the 5 teams who have averaged the highest number of penalties in the last 4 seasons (2016 through 2019) Your querry should return the team id number, team name(city) and the team's average number of penalties over this period. your query could optionally return these teams average yardage lost to penalties over this timeframe as well. \n",
    "\n",
    "Is Seattle even on this list?"
   ]
  },
  {
   "cell_type": "code",
   "execution_count": null,
   "metadata": {},
   "outputs": [],
   "source": [
    "conn.rollback()\n",
    "query = \"\"\"\n",
    "Your code here;\n",
    "\"\"\"\n",
    "cur.execute(query)\n",
    "cur.fetchall() "
   ]
  },
  {
   "cell_type": "markdown",
   "metadata": {},
   "source": [
    "#### Q1 Solution"
   ]
  },
  {
   "cell_type": "markdown",
   "metadata": {},
   "source": [
    "<details><summary>\n",
    "Possible answer:\n",
    "</summary>\n",
    "SELECT TOP 5 team_city, AVG(against_count), AVG(agnst_yrds)\n",
    "    \n",
    "FROM guest.teams\n",
    "    \n",
    "WHERE year > 2015\n",
    "    \n",
    "GROUP BY team_city\n",
    "    \n",
    "ORDER BY AVG(against_count) DESC;"
   ]
  },
  {
   "cell_type": "markdown",
   "metadata": {},
   "source": [
    "#### Q2 \n",
    "Next we want to know if the Seahawks started to draw more penalties once Pete Carroll took over as head coach in 2010?\n",
    "There are several ways to do this. Your querry should return the average number of penalties per season during the Carroll era as well as the average in years prior to this under a different head coach."
   ]
  },
  {
   "cell_type": "code",
   "execution_count": null,
   "metadata": {},
   "outputs": [],
   "source": [
    "conn.rollback()\n",
    "query = \"\"\"\n",
    "Your code here;\n",
    "\"\"\"\n",
    "cur.execute(query)\n",
    "cur.fetchall() "
   ]
  },
  {
   "cell_type": "markdown",
   "metadata": {},
   "source": [
    "#### Q2 Solution"
   ]
  },
  {
   "cell_type": "markdown",
   "metadata": {},
   "source": [
    "<details><summary>\n",
    "Possible answer:\n",
    "</summary>\n",
    "SELECT coach_name, AVG(against_count)\n",
    "    \n",
    "FROM guest.teams\n",
    "    \n",
    "WHERE team_city = 'Seattle'\n",
    "    \n",
    "GROUP BY coach_name;"
   ]
  },
  {
   "cell_type": "markdown",
   "metadata": {},
   "source": [
    "#### Q3a\n",
    "In order to really see if the Seahawks are being unfairly targeted for penalties we want to look at a player who has played on a couple of different teams.\n",
    "\n",
    "To do this we'll start by looking at Richard Sherman, who was let go by Seattle after 2017 and picked up by San Francisco. \n",
    "\n",
    "Write a querry that returns Sherman's average flags per season as a Seahawk and as a 49er. Are the averages different?\n",
    "\n",
    "Hint: it will be helpful to know that Sherman is listed in the player_name column under 'R.Sherman'"
   ]
  },
  {
   "cell_type": "code",
   "execution_count": null,
   "metadata": {},
   "outputs": [],
   "source": [
    "conn.rollback()\n",
    "query = \"\"\"\n",
    "Your code here;\n",
    "\"\"\"\n",
    "cur.execute(query)\n",
    "cur.fetchall() "
   ]
  },
  {
   "cell_type": "markdown",
   "metadata": {},
   "source": [
    "#### Q3a Solution"
   ]
  },
  {
   "cell_type": "markdown",
   "metadata": {},
   "source": [
    "<details><summary>\n",
    "Possible answer:\n",
    "</summary>\n",
    "SELECT AVG(pen_count), team\n",
    "    \n",
    "FROM guest.players\n",
    "    \n",
    "WHERE player_name = 'R.Sherman'\n",
    "    \n",
    "GROUP BY team;"
   ]
  },
  {
   "cell_type": "markdown",
   "metadata": {},
   "source": [
    "#### Q3b"
   ]
  },
  {
   "cell_type": "markdown",
   "metadata": {},
   "source": [
    "Now that we've done this with one player, we want to expand the querry to look at ALL players who have been on both Seattle and another team. Write a querry that returns these players average number of penalties for the years they were with Seattle and the average number of penalties for their years on other teams. \n",
    "\n",
    "<details><summary>\n",
    "Hint if you don't know where to start:\n",
    "</summary>\n",
    "start by writing a querry to find all of the players for Seattle and a querry to find players who have been on multiple teams, then try to incorporate these into your querry from part a"
   ]
  },
  {
   "cell_type": "code",
   "execution_count": null,
   "metadata": {},
   "outputs": [],
   "source": [
    "conn.rollback()\n",
    "query = \"\"\"\n",
    "Your code here;\n",
    "\"\"\"\n",
    "cur.execute(query)\n",
    "cur.fetchall() "
   ]
  },
  {
   "cell_type": "markdown",
   "metadata": {},
   "source": [
    "#### Q3b Solution"
   ]
  },
  {
   "cell_type": "markdown",
   "metadata": {},
   "source": [
    "<details><summary>\n",
    "Possible answer:\n",
    "</summary>\n",
    "SELECT player_name, AVG(pen_count), team\n",
    "    \n",
    "FROM guest.players\n",
    "    \n",
    "WHERE player_id IN (SELECT player_id\n",
    "FROM guest.players\n",
    "WHERE player_id IN (SELECT DISTINCT player_id\n",
    "FROM guest.players\n",
    "WHERE team = 'Seattle')\n",
    "GROUP BY player_id\n",
    "HAVING COUNT(DISTINCT team) > 1)\n",
    "    \n",
    "GROUP BY team, player_name\n",
    ";"
   ]
  },
  {
   "cell_type": "code",
   "execution_count": 12,
   "metadata": {},
   "outputs": [],
   "source": [
    "cur.close()  # Close the cursor\n",
    "conn.close()"
   ]
  },
  {
   "cell_type": "markdown",
   "metadata": {},
   "source": [
    "guest.teams table\n",
    "\n",
    "|id \t\t\t   | Description                                | Type      |\n",
    "|------------------|:-------------------------------------------|:----------|\n",
    "| year      \t   | Year of football season                    | INT       |\n",
    "| team_city \t   | City where team is located                 | VARCHAR   |\n",
    "| team_id   \t   | id number unique to team                   | INT       |\n",
    "| coach_name       | Name of team coach                         | VARCHAR   |\n",
    "| coach_id         | id number unique to coach                  | INT       |\n",
    "| ranking          | Rank of most to least penalized            | INT       |\n",
    "| games     \t   | Games played that season                   | INT       |\n",
    "| plays            | Number of plays that season                | INT       |\n",
    "| against_count    | Number of flags against team               | INT       |\n",
    "| agnst_yrds       | Total yards penalized in season            | INT       |\n",
    "| ben_count        | Number of flags on opposing team           | INT       |\n",
    "| ben_yrds     \t   | Yards given for opposing flags             | INT       |\n",
    "| net_count        | Team flags less opposing flags\t            | INT       |\n",
    "| net_yrds         | Yards lost plus yards gained from penalties| INT       |\n",
    "| total_flags      | Total flags thrown in team's games         | INT       |\n",
    "\n",
    "\n",
    "guest.players table\n",
    "\n",
    "|id \t        | Description                                | Type      |\n",
    "|---------------|:-------------------------------------------|:----------|\n",
    "| year      \t| Year of football season                    | INT       |\n",
    "| player_name \t| Name of player                             | VARCHAR   |\n",
    "| player_id   \t| id number unique to player                 | INT       |\n",
    "| position      | Abreviation for player's position          | VARCHAR   |\n",
    "| team          | City where team is located                 | VARCHAR   |\n",
    "| team_id       | id number unique to team                   | INT       |\n",
    "| pen_count     | Number of inforced penalties against player| INT       |\n",
    "| yards         | Yards lost due to flags on player          | INT       |\n",
    "| n_flags       | All player penalties, includes declined    | INT       |\n",
    "| pre_snap      | Flags by player prior to start of play     | INT       |\n",
    "| per_game      | Number of times penalized per game         | INT       |\n",
    "| yards_game    | Yards lost from penalites per game         | INT       |\n",
    "| of_team       | Percentage of teams penalties from player  | INT       |\n"
   ]
  },
  {
   "cell_type": "code",
   "execution_count": null,
   "metadata": {},
   "outputs": [],
   "source": []
  }
 ],
 "metadata": {
  "kernelspec": {
   "display_name": "Python 3",
   "language": "python",
   "name": "python3"
  },
  "language_info": {
   "codemirror_mode": {
    "name": "ipython",
    "version": 3
   },
   "file_extension": ".py",
   "mimetype": "text/x-python",
   "name": "python",
   "nbconvert_exporter": "python",
   "pygments_lexer": "ipython3",
   "version": "3.7.3"
  }
 },
 "nbformat": 4,
 "nbformat_minor": 4
}
