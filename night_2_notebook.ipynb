{
 "cells": [
  {
   "cell_type": "markdown",
   "metadata": {},
   "source": [
    "## If you weren't here last time, make sure the necessary installations are made\n",
    "If you were you can skip down to and run the cell containing the connection string for the database instance"
   ]
  },
  {
   "cell_type": "code",
   "execution_count": null,
   "metadata": {},
   "outputs": [],
   "source": [
    "!pip install pymssql"
   ]
  },
  {
   "cell_type": "markdown",
   "metadata": {},
   "source": [
    "#### For Mac users:\n",
    "You will need to install the following program in the terminal or the notebook will throw an error when importing pymssql.\n",
    "\n",
    "       brew install freetds\n",
    "\n",
    "Non Mac users may not need this install at all, but in the event that they do, an ubuntu version can be found here:\n",
    "    https://packages.ubuntu.com/search?keywords=FreeTDS"
   ]
  },
  {
   "cell_type": "markdown",
   "metadata": {},
   "source": [
    "## Run this cell to connect to the database and set up to make queries"
   ]
  },
  {
   "cell_type": "code",
   "execution_count": null,
   "metadata": {},
   "outputs": [],
   "source": [
    "import pymssql\n",
    "import scipy.stats as stats\n",
    "\n",
    "conn = pymssql.connect(host='mss-nfl.cuy9yxiaxoxo.us-west-2.rds.amazonaws.com',user='*******',password='**********',database='nfl')\n",
    "cur = conn.cursor()\n",
    "cur.execute('''\n",
    "USE nfl;\n",
    "''')"
   ]
  },
  {
   "cell_type": "markdown",
   "metadata": {},
   "source": [
    "## Answering questions:\n",
    "\n",
    "Once everyone is ready we'll dive into the following questions. The table schemas can be found at the bottom of this notebook, however you may find it easier to pull up the github readme for the project, which also contains these schema tables, in another window, link below:\n",
    "\n",
    "https://github.com/dougtheeconomist/flag-on-the-play/blob/master/README.md"
   ]
  },
  {
   "cell_type": "markdown",
   "metadata": {},
   "source": [
    "We're picking up where we left off last time, where we created a table to identify players who had played for Seattle and another team in the NFL. This table displayed the player's name, the average penalties they accrued while on a specific team and the name of that team. To start everyone off with this session at the same spot I have provided the code for that query below."
   ]
  },
  {
   "cell_type": "markdown",
   "metadata": {},
   "source": [
    "## Task A\n",
    "Take the query provided from the end of last session below, and use it to create a temporary table. This will provide a convenient way for us to make further queries from the information on this table, which will be the focus of tonights exploration. From this temporary table write two querries: one that returns the average of the penalties column when the team is 'Seattle' and one when the team is not 'Seattle'.\n",
    "\n",
    "Remember that the syntax for creating and using a temporary table is:\n",
    "\n",
    ">WITH &nbsp;&nbsp; temp_table_name(column_label_1, column_label_2, etc.) <br>\n",
    "&nbsp;&nbsp;&nbsp;  AS <br>\n",
    "&nbsp;&nbsp;&nbsp;&nbsp;&nbsp;&nbsp;&nbsp;    ( QUERY )\n",
    "    <br>SELECT what-have-you FROM temp_table_name;"
   ]
  },
  {
   "cell_type": "markdown",
   "metadata": {},
   "source": [
    "## NOTE:\n",
    "creating a temporary table in one query does not keep this table globally for access by the next query; temporary means temporary! So copying and pasting the tables you create in previous queries into the new cells will be the most convenient way of re-using these."
   ]
  },
  {
   "cell_type": "code",
   "execution_count": null,
   "metadata": {},
   "outputs": [],
   "source": [
    "conn.rollback()\n",
    "query = \"\"\"\n",
    "\n",
    "SELECT player_name AS name, AVG(CAST(pen_count AS float)) AS penalties, team\n",
    "FROM guest.players\n",
    "WHERE player_id IN (SELECT player_id FROM guest.players WHERE player_id IN (SELECT DISTINCT player_id FROM guest.players WHERE team = 'Seattle') GROUP BY player_id HAVING COUNT(DISTINCT team) > 1)\n",
    "GROUP BY team, player_name\n",
    "\n",
    ";\n",
    "\"\"\"\n",
    "cur.execute(query)\n",
    "cur.fetchall() "
   ]
  },
  {
   "cell_type": "code",
   "execution_count": null,
   "metadata": {},
   "outputs": [],
   "source": [
    "#query 1\n",
    "conn.rollback()\n",
    "query = \"\"\"\n",
    "\n",
    "Your code here\n",
    "\n",
    ";\n",
    "\"\"\"\n",
    "cur.execute(query)\n",
    "cur.fetchall() "
   ]
  },
  {
   "cell_type": "markdown",
   "metadata": {},
   "source": [
    "<details><summary>\n",
    "Possible answer:\n",
    "</summary>\n",
    "WITH temp(name,penalties,team)\n",
    "    \n",
    "    AS\n",
    "    \n",
    "    (SELECT player_name AS name, AVG(CAST(pen_count AS float)) AS penalties, team\n",
    "\n",
    "    FROM guest.players\n",
    "\n",
    "    WHERE player_id IN (SELECT player_id FROM guest.players WHERE player_id IN (SELECT DISTINCT player_id FROM \n",
    "    \n",
    "    guest.players WHERE team = 'Seattle') GROUP BY player_id HAVING COUNT(DISTINCT team) > 1)\n",
    "\n",
    "    GROUP BY team, player_name)\n",
    "    \n",
    "SELECT AVG(penalties)\n",
    "    \n",
    "    FROM temp1\n",
    "    \n",
    "    WHERE team = 'Seattle'\n",
    "    ;"
   ]
  },
  {
   "cell_type": "code",
   "execution_count": null,
   "metadata": {},
   "outputs": [],
   "source": [
    "#query 2\n",
    "conn.rollback()\n",
    "query = \"\"\"\n",
    "\n",
    "Your code here\n",
    "\n",
    ";\n",
    "\"\"\"\n",
    "cur.execute(query)\n",
    "cur.fetchall() "
   ]
  },
  {
   "cell_type": "markdown",
   "metadata": {},
   "source": [
    "<details><summary>\n",
    "Possible answer:\n",
    "</summary>\n",
    "WITH temp(name,penalties,team)\n",
    "    \n",
    "    AS\n",
    "    \n",
    "    (SELECT player_name AS name, AVG(CAST(pen_count AS float)) AS penalties, team\n",
    "\n",
    "    FROM guest.players\n",
    "\n",
    "    WHERE player_id IN (SELECT player_id FROM guest.players WHERE player_id IN (SELECT DISTINCT player_id FROM \n",
    "    \n",
    "    guest.players WHERE team = 'Seattle') GROUP BY player_id HAVING COUNT(DISTINCT team) > 1)\n",
    "\n",
    "    GROUP BY team, player_name)\n",
    "    \n",
    "SELECT AVG(penalties)\n",
    "    \n",
    "    FROM temp1\n",
    "    \n",
    "    WHERE team <> 'Seattle'\n",
    "    ;"
   ]
  },
  {
   "cell_type": "markdown",
   "metadata": {},
   "source": [
    "How different are the averages from these queries? Is the average when the team is Seattle higher?"
   ]
  },
  {
   "cell_type": "code",
   "execution_count": null,
   "metadata": {},
   "outputs": [],
   "source": [
    "conn.rollback()\n",
    "query = \"\"\"\n",
    "\n",
    "Your code here\n",
    "\n",
    ";\n",
    "\"\"\"\n",
    "cur.execute(query)\n",
    "cur.fetchall() "
   ]
  },
  {
   "cell_type": "markdown",
   "metadata": {},
   "source": [
    "## Task B\n",
    "So we now have a definitive answer to the question that we started out with, but being dilligent data scientists, we can't just leave it at that. We want to perform a hypothesis test, treating the rows where team = 'Seattle' and the rows where it does not as different samples to make sure that this result has statistical significance.\n",
    "\n",
    "In order to do this we need 6 pieces of information. The first two are the averages that you just queried. Next write 4 more queries to obtain the other pieces: the standard deviation when the team is Seattle and when team is not Seattle, and the number of rows where the team is Seattle and where the the team is not Seattle. \n",
    "\n",
    "With this information we can conduct a 2 sample hypothesis test with a null hypothesis that there is no difference in average penalties when players are members of Seattle's team vs other teams, vs the alternate hypothesis that the difference that we have seen from these queries is not just due to random chance. "
   ]
  },
  {
   "cell_type": "markdown",
   "metadata": {},
   "source": [
    "## Standard Deviation when team is Seattle"
   ]
  },
  {
   "cell_type": "code",
   "execution_count": null,
   "metadata": {},
   "outputs": [],
   "source": [
    "conn.rollback()\n",
    "query = \"\"\"\n",
    "\n",
    "Your code here\n",
    "\n",
    ";\n",
    "\"\"\"\n",
    "cur.execute(query)\n",
    "cur.fetchall() "
   ]
  },
  {
   "cell_type": "markdown",
   "metadata": {},
   "source": [
    "<details><summary>\n",
    "Possible answer:\n",
    "</summary>\n",
    "WITH temp(name,penalties,team)\n",
    "    \n",
    "    AS\n",
    "    \n",
    "    (SELECT player_name AS name, AVG(CAST(pen_count AS float)) AS penalties, team\n",
    "\n",
    "    FROM guest.players\n",
    "\n",
    "    WHERE player_id IN (SELECT player_id FROM guest.players WHERE player_id IN (SELECT DISTINCT player_id FROM \n",
    "    \n",
    "    guest.players WHERE team = 'Seattle') GROUP BY player_id HAVING COUNT(DISTINCT team) > 1)\n",
    "\n",
    "    GROUP BY team, player_name)\n",
    "\n",
    "\n",
    "SELECT STDEV(penalties) \n",
    "    \n",
    "    FROM temp\n",
    "    \n",
    "    WHERE team = 'Seattle'\n",
    ";"
   ]
  },
  {
   "cell_type": "markdown",
   "metadata": {},
   "source": [
    "## Standard Deviation when team is not Seattle"
   ]
  },
  {
   "cell_type": "code",
   "execution_count": null,
   "metadata": {},
   "outputs": [],
   "source": [
    "conn.rollback()\n",
    "query = \"\"\"\n",
    "\n",
    "Your code here\n",
    "\n",
    ";\n",
    "\"\"\"\n",
    "cur.execute(query)\n",
    "cur.fetchall() "
   ]
  },
  {
   "cell_type": "markdown",
   "metadata": {},
   "source": [
    "<details><summary>\n",
    "Possible answer:\n",
    "</summary>\n",
    "WITH temp(name,penalties,team)\n",
    "    \n",
    "    AS\n",
    "    \n",
    "    (SELECT player_name AS name, AVG(CAST(pen_count AS float)) AS penalties, team\n",
    "    \n",
    "    FROM guest.players\n",
    "    \n",
    "    WHERE player_id IN (SELECT player_id FROM guest.players WHERE player_id IN (SELECT DISTINCT player_id FROM \n",
    "    \n",
    "    guest.players WHERE team = 'Seattle') GROUP BY player_id HAVING COUNT(DISTINCT team) > 1)\n",
    "\n",
    "    GROUP BY team, player_name)\n",
    "\n",
    "SELECT STDEV(penalties) \n",
    "    \n",
    "    FROM temp\n",
    "    \n",
    "    WHERE team <> 'Seattle'\n",
    ";"
   ]
  },
  {
   "cell_type": "markdown",
   "metadata": {},
   "source": [
    "## Number of rows where team is Seattle"
   ]
  },
  {
   "cell_type": "code",
   "execution_count": null,
   "metadata": {},
   "outputs": [],
   "source": [
    "conn.rollback()\n",
    "query = \"\"\"\n",
    "\n",
    "Your code here\n",
    "\n",
    ";\n",
    "\"\"\"\n",
    "cur.execute(query)\n",
    "cur.fetchall() "
   ]
  },
  {
   "cell_type": "markdown",
   "metadata": {},
   "source": [
    "<details><summary>\n",
    "Possible answer:\n",
    "</summary>\n",
    "WITH temp(name,penalties,team)\n",
    "    \n",
    "    AS\n",
    "    \n",
    "    (SELECT player_name AS name, AVG(CAST(pen_count AS float)) AS penalties, team\n",
    "\n",
    "    FROM guest.players\n",
    "\n",
    "    WHERE player_id IN (SELECT player_id FROM guest.players WHERE player_id IN (SELECT DISTINCT player_id FROM \n",
    "    \n",
    "    guest.players WHERE team = 'Seattle') GROUP BY player_id HAVING COUNT(DISTINCT team) > 1)\n",
    "\n",
    "    GROUP BY team, player_name)\n",
    "\n",
    "SELECT COUNT(penalties) \n",
    "    \n",
    "    FROM temp\n",
    "    \n",
    "    WHERE team = 'Seattle'\n",
    ";"
   ]
  },
  {
   "cell_type": "markdown",
   "metadata": {},
   "source": [
    "## Number of rows where team is not Seattle"
   ]
  },
  {
   "cell_type": "code",
   "execution_count": null,
   "metadata": {},
   "outputs": [],
   "source": [
    "conn.rollback()\n",
    "query = \"\"\"\n",
    "\n",
    "Your code here\n",
    "\n",
    ";\n",
    "\"\"\"\n",
    "cur.execute(query)\n",
    "cur.fetchall() "
   ]
  },
  {
   "cell_type": "markdown",
   "metadata": {},
   "source": [
    "<details><summary>\n",
    "Possible answer:\n",
    "</summary>\n",
    "WITH temp(name,penalties,team)\n",
    "    \n",
    "    AS\n",
    "    \n",
    "    (SELECT player_name AS name, AVG(CAST(pen_count AS float)) AS penalties, team\n",
    "\n",
    "    FROM guest.players\n",
    "\n",
    "    WHERE player_id IN (SELECT player_id FROM guest.players WHERE player_id IN (SELECT DISTINCT player_id FROM \n",
    "    \n",
    "    guest.players WHERE team = 'Seattle') GROUP BY player_id HAVING COUNT(DISTINCT team) > 1)\n",
    "\n",
    "    GROUP BY team, player_name)\n",
    "\n",
    "SELECT COUNT(penalties) \n",
    "    \n",
    "    FROM temp\n",
    "    \n",
    "    WHERE team <> 'Seattle'\n",
    ";"
   ]
  },
  {
   "cell_type": "markdown",
   "metadata": {},
   "source": [
    "## Task C: Putting it all together\n",
    "Now write a query that utilizes the queries you have already written to calculate our test statistic\n",
    "\n",
    "As a refresher the equation for this will be the mean of group1 - the mean of group2 in the numerator, \n",
    "\n",
    "and the square root of ( (standard dev group1 squared / n group1) + (standard dev group2 squared / n group2) ) in the denominator"
   ]
  },
  {
   "cell_type": "markdown",
   "metadata": {},
   "source": [
    "<details><summary>\n",
    "HINT:\n",
    "</summary>\n",
    "SQL's order of operations will want you to do all of your operations in the first select statement,\n",
    "so your query will be in the format \n",
    "    \n",
    "    SELECT (something - (SELECT next thing FROM temp table etc)) / (more sub queries from previous parts with appropriate operators to perform mathematical operations)\n",
    "    \n",
    "    FROM temp table \n",
    "    \n",
    "    etc"
   ]
  },
  {
   "cell_type": "code",
   "execution_count": null,
   "metadata": {},
   "outputs": [],
   "source": [
    "conn.rollback()\n",
    "query = \"\"\"\n",
    "\n",
    "Your code here\n",
    "\n",
    ";\n",
    "\"\"\"\n",
    "cur.execute(query)\n",
    "cur.fetchall() "
   ]
  },
  {
   "cell_type": "markdown",
   "metadata": {},
   "source": [
    "<details><summary>\n",
    "Possible answer:\n",
    "</summary>\n",
    "WITH temp(name,penalties,team)\n",
    "    \n",
    "    AS\n",
    "    \n",
    "    (SELECT player_name AS name, AVG(CAST(pen_count AS float)) AS penalties, team\n",
    "    \n",
    "    FROM guest.players\n",
    "    \n",
    "    WHERE player_id IN (SELECT player_id FROM guest.players WHERE player_id IN (SELECT DISTINCT player_id FROM \n",
    "    \n",
    "    guest.players WHERE team = 'Seattle') GROUP BY player_id HAVING COUNT(DISTINCT team) > 1)\n",
    "    \n",
    "    GROUP BY team, player_name)\n",
    "    \n",
    "\n",
    "\n",
    "SELECT (AVG(penalties) - (SELECT AVG(penalties) FROM temp WHERE team = 'Seattle')) \n",
    "    \n",
    "        / (SQRT((POWER((SELECT STDEV(penalties) FROM temp WHERE team = 'Seattle'),2) / (SELECT COUNT(penalties) FROM temp WHERE team = 'Seattle')) +\n",
    "    \n",
    "    (POWER((SELECT STDEV(penalties) FROM temp WHERE team <> 'Seattle'),2) / (SELECT COUNT(penalties) FROM temp WHERE team <> 'Seattle'))))\n",
    "    \n",
    "    FROM temp\n",
    "    \n",
    "    WHERE team <> 'Seattle'\n",
    "    \n",
    ";"
   ]
  },
  {
   "cell_type": "markdown",
   "metadata": {},
   "source": [
    "### Note on interpretation\n",
    "If you look up this t-statistic that you just calculated in a table, remember to divide it by two as we are interested in a one tail answer for practically addressing the question at hand."
   ]
  },
  {
   "cell_type": "markdown",
   "metadata": {},
   "source": [
    "## Bonus:\n",
    "If you want to check your work or utilize an easier alternative in a functional setting, you can do the following steps to use the t-test function is scipy.stats"
   ]
  },
  {
   "cell_type": "markdown",
   "metadata": {},
   "source": [
    "First write two additional queries, each should return the penalties column from our temporary table, one where the team is seattle and one where it is not.\n",
    "\n",
    "Save the output of these queries to seperate lists, this can be done by simply inserting \n",
    "\n",
    "    name_of_list = \n",
    "    \n",
    "in front of \n",
    "\n",
    "    cur.fetchall()\n",
    "   "
   ]
  },
  {
   "cell_type": "markdown",
   "metadata": {},
   "source": [
    "## Where team is Seattle"
   ]
  },
  {
   "cell_type": "code",
   "execution_count": null,
   "metadata": {},
   "outputs": [],
   "source": [
    "conn.rollback()\n",
    "query = \"\"\"\n",
    "\n",
    "Your code here\n",
    "\n",
    ";\n",
    "\"\"\"\n",
    "cur.execute(query)\n",
    "cur.fetchall() "
   ]
  },
  {
   "cell_type": "markdown",
   "metadata": {},
   "source": [
    "<details><summary>\n",
    "Possible answer:\n",
    "</summary>\n",
    "WITH temp(name,penalties,team)\n",
    "\n",
    "    AS\n",
    "    \n",
    "    (SELECT player_name AS name, AVG(CAST(pen_count AS float)) AS penalties, team\n",
    "     \n",
    "    FROM guest.players\n",
    "     \n",
    "    WHERE player_id IN (SELECT player_id FROM guest.players WHERE player_id IN (SELECT DISTINCT player_id FROM guest.players WHERE team = 'Seattle') GROUP BY player_id HAVING COUNT(DISTINCT team) > 1)\n",
    "\n",
    "     GROUP BY team, player_name)\n",
    "\n",
    "SELECT penalties\n",
    "\n",
    "    FROM temp\n",
    "    \n",
    "    WHERE team <> 'Seattle'\n",
    ";"
   ]
  },
  {
   "cell_type": "markdown",
   "metadata": {},
   "source": [
    "## Where team is not Seattle"
   ]
  },
  {
   "cell_type": "code",
   "execution_count": null,
   "metadata": {},
   "outputs": [],
   "source": [
    "conn.rollback()\n",
    "query = \"\"\"\n",
    "\n",
    "Your code here\n",
    "\n",
    ";\n",
    "\"\"\"\n",
    "cur.execute(query)\n",
    "cur.fetchall() "
   ]
  },
  {
   "cell_type": "markdown",
   "metadata": {},
   "source": [
    "<details><summary>\n",
    "Possible answer:\n",
    "</summary>\n",
    "WITH temp(name,penalties,team)\n",
    "\n",
    "    AS\n",
    "    \n",
    "    (SELECT player_name AS name, AVG(CAST(pen_count AS float)) AS penalties, team\n",
    "     \n",
    "    FROM guest.players\n",
    "     \n",
    "    WHERE player_id IN (SELECT player_id FROM guest.players WHERE player_id IN (SELECT DISTINCT player_id FROM guest.players WHERE team = 'Seattle') GROUP BY player_id HAVING COUNT(DISTINCT team) > 1)\n",
    "\n",
    "     GROUP BY team, player_name)\n",
    "\n",
    "SELECT penalties\n",
    "\n",
    "    FROM temp\n",
    "    \n",
    "    WHERE team <> 'Seattle'\n",
    ";"
   ]
  },
  {
   "cell_type": "markdown",
   "metadata": {},
   "source": [
    "Then use \n",
    "\n",
    "    stats.ttest_ind()\n",
    "    \n",
    "with the two lists you just saved to generate our test statistic and corresponding p-value; remember to set the equal_var option to False or you will get a different answer"
   ]
  },
  {
   "cell_type": "markdown",
   "metadata": {},
   "source": [
    "<details><summary>\n",
    "Possible answer:\n",
    "</summary>\n",
    "stats.ttest_ind(otherteams_list, seattle_list, equal_var=False)"
   ]
  },
  {
   "cell_type": "markdown",
   "metadata": {},
   "source": [
    "### Note on interpretation\n",
    "Again, since we are interested in the single tailed answer here for reporting purposes we would divide the t-statistic and p-value here by 2, although doing so does not change the value enough to allow us to draw a different conclusion about failing to reject the null. "
   ]
  },
  {
   "cell_type": "markdown",
   "metadata": {},
   "source": [
    "## Fun Fact:\n",
    "Oracle sql syntax actually has a built in functions to do this type of hypothesis test: \n",
    "\n",
    "    STATS_ONE_WAY_ANOVA()\n",
    "    \n",
    "and\n",
    "\n",
    "    STATS_T_TEST_INDEPU()\n",
    "\n",
    "If you ever find yourself performing sql queries with oracle, this may be a helpful function to take a look at.\n",
    "Unfortunately this command doesn't work in sql server.\n",
    "\n",
    "For more on these oracle functions, I found them at this site: https://www.oracle.com/database/technologies/bi-datawarehousing.html"
   ]
  },
  {
   "cell_type": "code",
   "execution_count": null,
   "metadata": {},
   "outputs": [],
   "source": []
  }
 ],
 "metadata": {
  "kernelspec": {
   "display_name": "Python 3",
   "language": "python",
   "name": "python3"
  },
  "language_info": {
   "codemirror_mode": {
    "name": "ipython",
    "version": 3
   },
   "file_extension": ".py",
   "mimetype": "text/x-python",
   "name": "python",
   "nbconvert_exporter": "python",
   "pygments_lexer": "ipython3",
   "version": "3.7.3"
  }
 },
 "nbformat": 4,
 "nbformat_minor": 4
}
